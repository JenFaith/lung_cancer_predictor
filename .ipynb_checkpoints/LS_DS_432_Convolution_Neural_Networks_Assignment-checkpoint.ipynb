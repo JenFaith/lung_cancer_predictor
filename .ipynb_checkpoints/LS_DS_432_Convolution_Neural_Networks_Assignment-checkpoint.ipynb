{
 "cells": [
  {
   "cell_type": "markdown",
   "metadata": {
    "colab_type": "text",
    "id": "fc4yMj7mtCAZ"
   },
   "source": [
    "<img align=\"left\" src=\"https://lever-client-logos.s3.amazonaws.com/864372b1-534c-480e-acd5-9711f850815c-1524247202159.png\" width=200>\n",
    "<br></br>\n",
    "<br></br>\n",
    "\n",
    "## *Data Science Unit 4 Sprint 3 Assignment 2*\n",
    "# Convolutional Neural Networks (CNNs)"
   ]
  },
  {
   "cell_type": "markdown",
   "metadata": {
    "colab_type": "text",
    "id": "0lfZdD_cp1t5"
   },
   "source": [
    "# Assignment\n",
    "\n",
    "- <a href=\"#p1\">Part 1:</a> Pre-Trained Model\n",
    "- <a href=\"#p2\">Part 2:</a> Custom CNN Model\n",
    "- <a href=\"#p3\">Part 3:</a> CNN with Data Augmentation\n",
    "\n",
    "\n",
    "You will apply three different CNN models to a binary image classification model using Keras. Classify images of Mountains (`./data/train/mountain/*`) and images of forests (`./data/train/forest/*`). Treat mountains as the positive class (1) and the forest images as the negative (zero). \n",
    "\n",
    "|Mountain (+)|Forest (-)|\n",
    "|---|---|\n",
    "|![](https://github.com/LambdaSchool/DS-Unit-4-Sprint-3-Deep-Learning/blob/main/module2-convolutional-neural-networks/data/train/mountain/art1131.jpg?raw=1)|![](https://github.com/LambdaSchool/DS-Unit-4-Sprint-3-Deep-Learning/blob/main/module2-convolutional-neural-networks/data/validation/forest/cdmc317.jpg?raw=1)|\n",
    "\n",
    "The problem is relatively difficult given that the sample is tiny: there are about 350 observations per class. This sample size might be something that you can expect with prototyping an image classification problem/solution at work. Get accustomed to evaluating several different possible models."
   ]
  },
  {
   "cell_type": "markdown",
   "metadata": {
    "colab_type": "text",
    "id": "1eawBP-otCAb"
   },
   "source": [
    "# Pre - Trained Model\n",
    "<a id=\"p1\"></a>\n",
    "\n",
    "Load a pretrained network from Keras, [ResNet50](https://tfhub.dev/google/imagenet/resnet_v1_50/classification/1) - a 50 layer deep network trained to recognize [1000 objects](https://storage.googleapis.com/download.tensorflow.org/data/ImageNetLabels.txt). Starting usage:\n",
    "\n",
    "```python\n",
    "import numpy as np\n",
    "\n",
    "from tensorflow.keras.applications.resnet50 import ResNet50\n",
    "from tensorflow.keras.preprocessing import image\n",
    "from tensorflow.keras.applications.resnet50 import preprocess_input, decode_predictions\n",
    "\n",
    "from tensorflow.keras.layers import Dense, GlobalAveragePooling2D\n",
    "from tensorflow.keras.models import Model # This is the functional API\n",
    "\n",
    "resnet = ResNet50(weights='imagenet', include_top=False)\n",
    "\n",
    "```\n",
    "\n",
    "The `include_top` parameter in `ResNet50` will remove the full connected layers from the ResNet model. The next step is to turn off the training of the ResNet layers. We want to use the learned parameters without updating them in future training passes. \n",
    "\n",
    "```python\n",
    "for layer in resnet.layers:\n",
    "    layer.trainable = False\n",
    "```\n",
    "\n",
    "Using the Keras functional API, we will need to additional additional full connected layers to our model. We we removed the top layers, we removed all preivous fully connected layers. In other words, we kept only the feature processing portions of our network. You can expert with additional layers beyond what's listed here. The `GlobalAveragePooling2D` layer functions as a really fancy flatten function by taking the average of each of the last convolutional layer outputs (which is two dimensional still). \n",
    "\n",
    "```python\n",
    "x = resnet.output\n",
    "x = GlobalAveragePooling2D()(x) # This layer is a really fancy flatten\n",
    "x = Dense(1024, activation='relu')(x)\n",
    "predictions = Dense(1, activation='sigmoid')(x)\n",
    "model = Model(resnet.input, predictions)\n",
    "```\n",
    "\n",
    "Your assignment is to apply the transfer learning above to classify images of Mountains (`./data/train/mountain/*`) and images of forests (`./data/train/forest/*`). Treat mountains as the positive class (1) and the forest images as the negative (zero). \n",
    "\n",
    "Steps to complete assignment: \n",
    "1. Load in Image Data into numpy arrays (`X`) \n",
    "2. Create a `y` for the labels\n",
    "3. Train your model with pre-trained layers from resnet\n",
    "4. Report your model's accuracy"
   ]
  },
  {
   "cell_type": "markdown",
   "metadata": {
    "colab_type": "text",
    "id": "CLdGdXCatCAb"
   },
   "source": [
    "## Load in Data\n",
    "\n",
    "This surprisingly more difficult than it seems, because you are working with directories of images instead of a single file. This boiler plate will help you download a zipped version of the directory of images. The directory is organized into \"train\" and \"validation\" which you can use inside an `ImageGenerator` class to stream batches of images thru your model.  \n"
   ]
  },
  {
   "cell_type": "code",
   "execution_count": 1,
   "metadata": {},
   "outputs": [],
   "source": [
    "import numpy as np\n",
    "\n",
    "from tensorflow.keras.applications.resnet50 import ResNet50\n",
    "from tensorflow.keras.preprocessing import image\n",
    "from tensorflow.keras.applications.resnet50 import preprocess_input, decode_predictions\n",
    "\n",
    "from tensorflow.keras.layers import Dense, GlobalAveragePooling2D\n",
    "from tensorflow.keras.models import Model # This is the functional API\n",
    "\n",
    "resnet = ResNet50(weights='imagenet', include_top=False)"
   ]
  },
  {
   "cell_type": "markdown",
   "metadata": {
    "colab_type": "text",
    "id": "moRVuHUqtCAc"
   },
   "source": [
    "### Download & Summarize the Data\n",
    "\n",
    "This step is completed for you. Just run the cells and review the results. "
   ]
  },
  {
   "cell_type": "code",
   "execution_count": 2,
   "metadata": {
    "colab": {
     "base_uri": "https://localhost:8080/",
     "height": 72
    },
    "colab_type": "code",
    "id": "AR66H8o9tCAc",
    "outputId": "b7c293db-28c1-4b0b-f5ae-25be00f11ec5"
   },
   "outputs": [],
   "source": [
    "import tensorflow as tf\n",
    "import os\n",
    "\n",
    "_URL = 'https://github.com/LambdaSchool/DS-Unit-4-Sprint-3-Deep-Learning/blob/main/module2-convolutional-neural-networks/data.zip?raw=true'\n",
    "\n",
    "path_to_zip = tf.keras.utils.get_file('./data.zip', origin=_URL, extract=True)\n",
    "PATH = os.path.join(os.path.dirname(path_to_zip), 'data')"
   ]
  },
  {
   "cell_type": "code",
   "execution_count": 3,
   "metadata": {
    "colab": {},
    "colab_type": "code",
    "id": "MNFsIu_KtCAg"
   },
   "outputs": [],
   "source": [
    "train_dir = os.path.join(PATH, 'train')\n",
    "validation_dir = os.path.join(PATH, 'validation')"
   ]
  },
  {
   "cell_type": "code",
   "execution_count": 4,
   "metadata": {
    "colab": {},
    "colab_type": "code",
    "id": "OsI9BQLotCAj"
   },
   "outputs": [],
   "source": [
    "train_mountain_dir = os.path.join(train_dir, 'mountain')  # directory with our training cat pictures\n",
    "train_forest_dir = os.path.join(train_dir, 'forest')  # directory with our training dog pictures\n",
    "validation_mountain_dir = os.path.join(validation_dir, 'mountain')  # directory with our validation cat pictures\n",
    "validation_forest_dir = os.path.join(validation_dir, 'forest')  # directory with our validation dog pictures"
   ]
  },
  {
   "cell_type": "code",
   "execution_count": 5,
   "metadata": {
    "colab": {},
    "colab_type": "code",
    "id": "NUs1e5-XtCAl"
   },
   "outputs": [],
   "source": [
    "num_mountain_tr = len(os.listdir(train_mountain_dir))\n",
    "num_forest_tr = len(os.listdir(train_forest_dir))\n",
    "\n",
    "num_mountain_val = len(os.listdir(validation_mountain_dir))\n",
    "num_forest_val = len(os.listdir(validation_forest_dir))\n",
    "\n",
    "total_train = num_mountain_tr + num_forest_tr\n",
    "total_val = num_mountain_val + num_forest_val"
   ]
  },
  {
   "cell_type": "code",
   "execution_count": 6,
   "metadata": {
    "colab": {
     "base_uri": "https://localhost:8080/",
     "height": 138
    },
    "colab_type": "code",
    "id": "ZmklbgSMtCAn",
    "outputId": "be5b9d52-d9f5-4b1e-878e-eb5f87d0c6bd"
   },
   "outputs": [
    {
     "name": "stdout",
     "output_type": "stream",
     "text": [
      "total training mountain images: 254\n",
      "total training forest images: 270\n",
      "total validation mountain images: 125\n",
      "total validation forest images: 62\n",
      "--\n",
      "Total training images: 524\n",
      "Total validation images: 187\n"
     ]
    }
   ],
   "source": [
    "print('total training mountain images:', num_mountain_tr)\n",
    "print('total training forest images:', num_forest_tr)\n",
    "\n",
    "print('total validation mountain images:', num_mountain_val)\n",
    "print('total validation forest images:', num_forest_val)\n",
    "print(\"--\")\n",
    "print(\"Total training images:\", total_train)\n",
    "print(\"Total validation images:\", total_val)"
   ]
  },
  {
   "cell_type": "markdown",
   "metadata": {
    "colab_type": "text",
    "id": "dQ4ag4ultCAq"
   },
   "source": [
    "### Keras `ImageGenerator` to Process the Data\n",
    "\n",
    "This step is completed for you, but please review the code. The `ImageGenerator` class reads in batches of data from a directory and pass them to the model one batch at a time. Just like large text files, this method is advantageous, because it stifles the need to load a bunch of images into memory. \n",
    "\n",
    "Check out the documentation for this class method: [Keras `ImageGenerator` Class](https://keras.io/preprocessing/image/#imagedatagenerator-class). You'll expand it's use in the third assignment objective."
   ]
  },
  {
   "cell_type": "code",
   "execution_count": 7,
   "metadata": {
    "colab": {},
    "colab_type": "code",
    "id": "67i9IW49tCAq"
   },
   "outputs": [],
   "source": [
    "batch_size = 16\n",
    "epochs = 50\n",
    "IMG_HEIGHT = 224\n",
    "IMG_WIDTH = 224"
   ]
  },
  {
   "cell_type": "code",
   "execution_count": null,
   "metadata": {},
   "outputs": [],
   "source": []
  },
  {
   "cell_type": "code",
   "execution_count": 8,
   "metadata": {},
   "outputs": [
    {
     "data": {
      "text/plain": [
       "'/Users/jenniferquigley/.keras/datasets/./data/train'"
      ]
     },
     "execution_count": 8,
     "metadata": {},
     "output_type": "execute_result"
    }
   ],
   "source": [
    "train_dir"
   ]
  },
  {
   "cell_type": "code",
   "execution_count": 9,
   "metadata": {
    "colab": {},
    "colab_type": "code",
    "id": "B1wNKMo1tCAt"
   },
   "outputs": [],
   "source": [
    "from tensorflow.keras.preprocessing.image import ImageDataGenerator\n",
    "\n",
    "train_image_generator = ImageDataGenerator(rescale=1./255) # Generator for our training data\n",
    "validation_image_generator = ImageDataGenerator(rescale=1./255) # Generator for our validation data"
   ]
  },
  {
   "cell_type": "code",
   "execution_count": 10,
   "metadata": {
    "colab": {
     "base_uri": "https://localhost:8080/",
     "height": 35
    },
    "colab_type": "code",
    "id": "ndsuM4L9tCAv",
    "outputId": "68bd83da-a370-4f6a-a257-d8c6782e1e1e"
   },
   "outputs": [
    {
     "name": "stdout",
     "output_type": "stream",
     "text": [
      "Found 533 images belonging to 2 classes.\n"
     ]
    }
   ],
   "source": [
    "train_data_gen = train_image_generator.flow_from_directory(batch_size=batch_size,\n",
    "                                                           directory=train_dir,\n",
    "                                                           shuffle=True,\n",
    "                                                           target_size=(IMG_HEIGHT, IMG_WIDTH),\n",
    "                                                           class_mode='binary')"
   ]
  },
  {
   "cell_type": "code",
   "execution_count": 11,
   "metadata": {
    "colab": {},
    "colab_type": "code",
    "id": "9kxlk3optCAy"
   },
   "outputs": [
    {
     "name": "stdout",
     "output_type": "stream",
     "text": [
      "Found 195 images belonging to 2 classes.\n"
     ]
    }
   ],
   "source": [
    "val_data_gen = validation_image_generator.flow_from_directory(batch_size=batch_size,\n",
    "                                                              directory=validation_dir,\n",
    "                                                              target_size=(IMG_HEIGHT, IMG_WIDTH),\n",
    "                                                              class_mode='binary')"
   ]
  },
  {
   "cell_type": "code",
   "execution_count": 12,
   "metadata": {},
   "outputs": [
    {
     "data": {
      "text/plain": [
       "<tensorflow.python.keras.preprocessing.image.DirectoryIterator at 0x14f504e20>"
      ]
     },
     "execution_count": 12,
     "metadata": {},
     "output_type": "execute_result"
    }
   ],
   "source": [
    "train_data_gen"
   ]
  },
  {
   "cell_type": "markdown",
   "metadata": {
    "colab_type": "text",
    "id": "2l7ue6NutCA0"
   },
   "source": [
    "## Instatiate Model"
   ]
  },
  {
   "cell_type": "code",
   "execution_count": 13,
   "metadata": {
    "colab": {},
    "colab_type": "code",
    "id": "mKNIYOEItCA0"
   },
   "outputs": [],
   "source": [
    "resnet = ResNet50(weights='imagenet', include_top=False)"
   ]
  },
  {
   "cell_type": "code",
   "execution_count": 14,
   "metadata": {},
   "outputs": [],
   "source": [
    "for layer in resnet.layers:\n",
    "    layer.trainable = False"
   ]
  },
  {
   "cell_type": "code",
   "execution_count": 15,
   "metadata": {},
   "outputs": [],
   "source": [
    "x = resnet.output\n",
    "x = GlobalAveragePooling2D()(x) # This layer is a really fancy flatten\n",
    "x = Dense(1024, activation='relu')(x)\n",
    "predictions = Dense(1, activation='sigmoid')(x)\n",
    "model = Model(resnet.input, predictions)"
   ]
  },
  {
   "cell_type": "code",
   "execution_count": 16,
   "metadata": {},
   "outputs": [],
   "source": [
    "model.compile(\n",
    "  optimizer=tf.keras.optimizers.SGD(lr=0.01), \n",
    "  loss=tf.keras.losses.BinaryCrossentropy(),\n",
    "  metrics=['accuracy'])"
   ]
  },
  {
   "cell_type": "markdown",
   "metadata": {
    "colab_type": "text",
    "id": "BVPBWYG7tCA2"
   },
   "source": [
    "## Fit Model"
   ]
  },
  {
   "cell_type": "code",
   "execution_count": 22,
   "metadata": {
    "colab": {},
    "colab_type": "code",
    "id": "H4XdvWA5tCA3"
   },
   "outputs": [
    {
     "name": "stdout",
     "output_type": "stream",
     "text": [
      "Epoch 1/50\n",
      "32/32 [==============================] - 66s 2s/step - loss: 0.8534 - accuracy: 0.5179 - val_loss: 0.6767 - val_accuracy: 0.6534\n",
      "Epoch 2/50\n",
      "32/32 [==============================] - 60s 2s/step - loss: 0.7862 - accuracy: 0.4835 - val_loss: 0.9558 - val_accuracy: 0.6591\n",
      "Epoch 3/50\n",
      "32/32 [==============================] - 62s 2s/step - loss: 0.8877 - accuracy: 0.4977 - val_loss: 0.6595 - val_accuracy: 0.6250\n",
      "Epoch 4/50\n",
      "32/32 [==============================] - 64s 2s/step - loss: 0.6827 - accuracy: 0.5574 - val_loss: 0.6312 - val_accuracy: 0.6534\n",
      "Epoch 5/50\n",
      "32/32 [==============================] - 61s 2s/step - loss: 0.7271 - accuracy: 0.5038 - val_loss: 0.7153 - val_accuracy: 0.4261\n",
      "Epoch 6/50\n",
      "32/32 [==============================] - 67s 2s/step - loss: 0.6869 - accuracy: 0.5517 - val_loss: 0.7195 - val_accuracy: 0.3636\n",
      "Epoch 7/50\n",
      "32/32 [==============================] - 58s 2s/step - loss: 0.6907 - accuracy: 0.5916 - val_loss: 0.6224 - val_accuracy: 0.7102\n",
      "Epoch 8/50\n",
      "32/32 [==============================] - 58s 2s/step - loss: 0.6700 - accuracy: 0.6238 - val_loss: 0.6553 - val_accuracy: 0.6420\n",
      "Epoch 9/50\n",
      "32/32 [==============================] - 75s 2s/step - loss: 0.6658 - accuracy: 0.5909 - val_loss: 0.7190 - val_accuracy: 0.3636\n",
      "Epoch 10/50\n",
      "32/32 [==============================] - 72s 2s/step - loss: 0.6512 - accuracy: 0.5907 - val_loss: 0.6983 - val_accuracy: 0.4886\n",
      "Epoch 11/50\n",
      "32/32 [==============================] - 65s 2s/step - loss: 0.6486 - accuracy: 0.6118 - val_loss: 0.7249 - val_accuracy: 0.3580\n",
      "Epoch 12/50\n",
      "32/32 [==============================] - 65s 2s/step - loss: 0.6663 - accuracy: 0.5609 - val_loss: 0.6404 - val_accuracy: 0.7102\n",
      "Epoch 13/50\n",
      "32/32 [==============================] - 66s 2s/step - loss: 0.6638 - accuracy: 0.5592 - val_loss: 0.6042 - val_accuracy: 0.7102\n",
      "Epoch 14/50\n",
      "32/32 [==============================] - 74s 2s/step - loss: 0.6333 - accuracy: 0.6510 - val_loss: 0.7950 - val_accuracy: 0.3409\n",
      "Epoch 15/50\n",
      "32/32 [==============================] - 69s 2s/step - loss: 0.6413 - accuracy: 0.6503 - val_loss: 0.5832 - val_accuracy: 0.6761\n",
      "Epoch 16/50\n",
      "32/32 [==============================] - 65s 2s/step - loss: 0.6287 - accuracy: 0.6487 - val_loss: 0.6289 - val_accuracy: 0.7273\n",
      "Epoch 17/50\n",
      "32/32 [==============================] - 68s 2s/step - loss: 0.6186 - accuracy: 0.6716 - val_loss: 0.6076 - val_accuracy: 0.7500\n",
      "Epoch 18/50\n",
      "32/32 [==============================] - 64s 2s/step - loss: 0.6126 - accuracy: 0.6651 - val_loss: 0.5797 - val_accuracy: 0.7045\n",
      "Epoch 19/50\n",
      "32/32 [==============================] - 67s 2s/step - loss: 0.6081 - accuracy: 0.6760 - val_loss: 0.9458 - val_accuracy: 0.3523\n",
      "Epoch 20/50\n",
      "32/32 [==============================] - 63s 2s/step - loss: 0.6477 - accuracy: 0.6307 - val_loss: 0.6489 - val_accuracy: 0.6648\n",
      "Epoch 21/50\n",
      "32/32 [==============================] - 63s 2s/step - loss: 0.5910 - accuracy: 0.7031 - val_loss: 0.5639 - val_accuracy: 0.7102\n",
      "Epoch 22/50\n",
      "32/32 [==============================] - 58s 2s/step - loss: 0.6586 - accuracy: 0.5998 - val_loss: 0.5733 - val_accuracy: 0.7159\n",
      "Epoch 23/50\n",
      "32/32 [==============================] - 60s 2s/step - loss: 0.5899 - accuracy: 0.7280 - val_loss: 0.5619 - val_accuracy: 0.7500\n",
      "Epoch 24/50\n",
      "32/32 [==============================] - 61s 2s/step - loss: 0.6178 - accuracy: 0.6851 - val_loss: 0.6911 - val_accuracy: 0.4943\n",
      "Epoch 25/50\n",
      "32/32 [==============================] - 67s 2s/step - loss: 0.6165 - accuracy: 0.6499 - val_loss: 0.5653 - val_accuracy: 0.6761\n",
      "Epoch 26/50\n",
      "32/32 [==============================] - 56s 2s/step - loss: 0.6117 - accuracy: 0.6477 - val_loss: 0.5731 - val_accuracy: 0.6648\n",
      "Epoch 27/50\n",
      "32/32 [==============================] - 55s 2s/step - loss: 0.6194 - accuracy: 0.6384 - val_loss: 0.6303 - val_accuracy: 0.6761\n",
      "Epoch 28/50\n",
      "32/32 [==============================] - 55s 2s/step - loss: 0.5687 - accuracy: 0.7573 - val_loss: 0.8774 - val_accuracy: 0.3636\n",
      "Epoch 29/50\n",
      "32/32 [==============================] - 54s 2s/step - loss: 0.6368 - accuracy: 0.6360 - val_loss: 0.5716 - val_accuracy: 0.7443\n",
      "Epoch 30/50\n",
      "32/32 [==============================] - 55s 2s/step - loss: 0.5746 - accuracy: 0.7180 - val_loss: 0.6288 - val_accuracy: 0.6875\n",
      "Epoch 31/50\n",
      "32/32 [==============================] - 55s 2s/step - loss: 0.5759 - accuracy: 0.7202 - val_loss: 0.5740 - val_accuracy: 0.7500\n",
      "Epoch 32/50\n",
      "32/32 [==============================] - 55s 2s/step - loss: 0.5672 - accuracy: 0.7267 - val_loss: 0.6810 - val_accuracy: 0.5284\n",
      "Epoch 33/50\n",
      "32/32 [==============================] - 55s 2s/step - loss: 0.5345 - accuracy: 0.7409 - val_loss: 0.8078 - val_accuracy: 0.4034\n",
      "Epoch 34/50\n",
      "32/32 [==============================] - 56s 2s/step - loss: 0.5817 - accuracy: 0.6613 - val_loss: 0.5455 - val_accuracy: 0.6875\n",
      "Epoch 35/50\n",
      "32/32 [==============================] - 57s 2s/step - loss: 0.5691 - accuracy: 0.6961 - val_loss: 0.7030 - val_accuracy: 0.5114\n",
      "Epoch 36/50\n",
      "32/32 [==============================] - 56s 2s/step - loss: 0.5357 - accuracy: 0.7530 - val_loss: 0.5066 - val_accuracy: 0.7443\n",
      "Epoch 37/50\n",
      "32/32 [==============================] - 56s 2s/step - loss: 0.5674 - accuracy: 0.7085 - val_loss: 0.5390 - val_accuracy: 0.7898\n",
      "Epoch 38/50\n",
      "32/32 [==============================] - 55s 2s/step - loss: 0.5810 - accuracy: 0.7046 - val_loss: 0.6669 - val_accuracy: 0.5625\n",
      "Epoch 39/50\n",
      "32/32 [==============================] - 56s 2s/step - loss: 0.5545 - accuracy: 0.6722 - val_loss: 1.0214 - val_accuracy: 0.3523\n",
      "Epoch 40/50\n",
      "32/32 [==============================] - 57s 2s/step - loss: 0.5781 - accuracy: 0.6819 - val_loss: 0.5094 - val_accuracy: 0.7330\n",
      "Epoch 41/50\n",
      "32/32 [==============================] - 56s 2s/step - loss: 0.5920 - accuracy: 0.6545 - val_loss: 0.6953 - val_accuracy: 0.5057\n",
      "Epoch 42/50\n",
      "32/32 [==============================] - 55s 2s/step - loss: 0.5595 - accuracy: 0.7018 - val_loss: 0.5097 - val_accuracy: 0.6989\n",
      "Epoch 43/50\n",
      "32/32 [==============================] - 56s 2s/step - loss: 0.5066 - accuracy: 0.7648 - val_loss: 0.6562 - val_accuracy: 0.6761\n",
      "Epoch 44/50\n",
      "32/32 [==============================] - 57s 2s/step - loss: 0.5598 - accuracy: 0.7292 - val_loss: 0.6543 - val_accuracy: 0.5682\n",
      "Epoch 45/50\n",
      "32/32 [==============================] - 56s 2s/step - loss: 0.5714 - accuracy: 0.7076 - val_loss: 0.5388 - val_accuracy: 0.7784\n",
      "Epoch 46/50\n",
      "32/32 [==============================] - 57s 2s/step - loss: 0.5127 - accuracy: 0.7673 - val_loss: 0.5649 - val_accuracy: 0.6818\n",
      "Epoch 47/50\n",
      "32/32 [==============================] - 56s 2s/step - loss: 0.6112 - accuracy: 0.6469 - val_loss: 0.5010 - val_accuracy: 0.7841\n",
      "Epoch 48/50\n",
      "32/32 [==============================] - 56s 2s/step - loss: 0.5665 - accuracy: 0.6789 - val_loss: 0.5159 - val_accuracy: 0.7898\n",
      "Epoch 49/50\n",
      "32/32 [==============================] - 56s 2s/step - loss: 0.5193 - accuracy: 0.7352 - val_loss: 0.7210 - val_accuracy: 0.4886\n",
      "Epoch 50/50\n",
      "32/32 [==============================] - 56s 2s/step - loss: 0.5326 - accuracy: 0.7074 - val_loss: 0.6213 - val_accuracy: 0.6761\n"
     ]
    }
   ],
   "source": [
    "history = model.fit(\n",
    "    train_data_gen,\n",
    "    steps_per_epoch=total_train // batch_size,\n",
    "    epochs=epochs,\n",
    "    validation_data=val_data_gen,\n",
    "    validation_steps=total_val // batch_size\n",
    ")"
   ]
  },
  {
   "cell_type": "markdown",
   "metadata": {
    "colab_type": "text",
    "id": "UPzsgS94tCA5"
   },
   "source": [
    "# Custom CNN Model\n",
    "\n",
    "In this step, write and train your own convolutional neural network using Keras. You can use any architecture that suits you as long as it has at least one convolutional and one pooling layer at the beginning of the network - you can add more if you want. "
   ]
  },
  {
   "cell_type": "code",
   "execution_count": 1,
   "metadata": {},
   "outputs": [],
   "source": [
    "# Preparing data\n",
    "import numpy as np\n",
    "import os\n",
    "from matplotlib import pyplot as plt\n",
    "import random\n",
    "import pickle"
   ]
  },
  {
   "cell_type": "code",
   "execution_count": 2,
   "metadata": {},
   "outputs": [],
   "source": [
    "PATH = 'data'"
   ]
  },
  {
   "cell_type": "code",
   "execution_count": 3,
   "metadata": {},
   "outputs": [],
   "source": [
    "# Telling python where to find files\n",
    "train_dir = os.path.join(PATH, 'train')\n",
    "validation_dir = os.path.join(PATH, 'validation')"
   ]
  },
  {
   "cell_type": "code",
   "execution_count": 4,
   "metadata": {},
   "outputs": [
    {
     "data": {
      "text/plain": [
       "'data/train'"
      ]
     },
     "execution_count": 4,
     "metadata": {},
     "output_type": "execute_result"
    }
   ],
   "source": [
    "train_dir"
   ]
  },
  {
   "cell_type": "code",
   "execution_count": 5,
   "metadata": {},
   "outputs": [],
   "source": [
    "# Predefined parameters\n",
    "batch_size = 16\n",
    "epochs = 20\n",
    "IMG_HEIGHT = 224\n",
    "IMG_WIDTH = 224"
   ]
  },
  {
   "cell_type": "code",
   "execution_count": 6,
   "metadata": {},
   "outputs": [],
   "source": [
    "# Preprocessing images\n",
    "# This is also where you would give parameters about rotations, reflections, etc...\n",
    "# range of rgb values is 0 to 255\n",
    "\n",
    "from tensorflow.keras.preprocessing.image import ImageDataGenerator\n",
    "\n",
    "train_image_generator = ImageDataGenerator(rescale=1./255) # Generator for our training data\n",
    "validation_image_generator = ImageDataGenerator(rescale=1./255) # Generator for our validation data"
   ]
  },
  {
   "cell_type": "code",
   "execution_count": 7,
   "metadata": {},
   "outputs": [
    {
     "name": "stdout",
     "output_type": "stream",
     "text": [
      "Found 520 images belonging to 2 classes.\n"
     ]
    }
   ],
   "source": [
    "train_data_gen = train_image_generator.flow_from_directory(batch_size=batch_size,\n",
    "                                                           directory=train_dir,\n",
    "                                                           shuffle=True,\n",
    "                                                           target_size=(IMG_HEIGHT, IMG_WIDTH),\n",
    "                                                           class_mode='binary')"
   ]
  },
  {
   "cell_type": "code",
   "execution_count": 8,
   "metadata": {},
   "outputs": [
    {
     "name": "stdout",
     "output_type": "stream",
     "text": [
      "Found 182 images belonging to 2 classes.\n"
     ]
    }
   ],
   "source": [
    "val_data_gen = validation_image_generator.flow_from_directory(batch_size=batch_size,\n",
    "                                                              directory=validation_dir,\n",
    "                                                              target_size=(IMG_HEIGHT, IMG_WIDTH),\n",
    "                                                              class_mode='binary')"
   ]
  },
  {
   "cell_type": "code",
   "execution_count": 23,
   "metadata": {},
   "outputs": [],
   "source": [
    "import tensorflow as tf\n",
    "from tensorflow.keras.models import Sequential\n",
    "from tensorflow.keras.layers import Dense, Dropout, Activation, Conv2D, MaxPooling2D, Flatten\n",
    "from keras.preprocessing.image import ImageDataGenerator, array_to_img, img_to_array, load_img"
   ]
  },
  {
   "cell_type": "code",
   "execution_count": null,
   "metadata": {
    "colab": {},
    "colab_type": "code",
    "id": "hnbJJie3tCA5"
   },
   "outputs": [],
   "source": [
    "# Setup\n",
    "\n",
    "# random value that will get updated during Gradient Descent just like weights in the FCFF network \n",
    "n_weight_matrices = 32\n",
    "\n",
    "# specify the window size (i.e. 3 cell high and 3 cell wide)\n",
    "weight_matrix_size = (3,3)\n",
    "\n",
    "act_func = 'relu'\n",
    "\n",
    "# dim of the image: 32 cell high, 32 cell wide, and 3 channels (one for Red, one for Blue, and one for Green)\n",
    "# this means our images are not matrices, they are tensors \n",
    "image_dim = (32,32,3)\n",
    "\n",
    "pool_size = (2,2)\n",
    "\n",
    "model = Sequential()\n",
    "\n",
    "# 1st conv layer \n",
    "model.add(Conv2D(n_weight_matrices, \n",
    "                 weight_matrix_size, \n",
    "                 activation=act_func, \n",
    "                 input_shape=image_dim))\n",
    "\n",
    "# 1st pooling layer \n",
    "model.add(MaxPooling2D(pool_size))\n",
    "\n",
    "# 2st conv layer \n",
    "model.add(Conv2D(64, weight_matrix_size, activation=act_func))\n",
    "\n",
    "# 2st pooling layer \n",
    "model.add(MaxPooling2D(pool_size))\n",
    "\n",
    "# 3st conv layer \n",
    "model.add(Conv2D(62, weight_matrix_size, activation=act_func))\n",
    "\n",
    "# not adding a 3rd pooling layer becaue the size of the image at this point\n",
    "# is already very small, i.e. (4,4)\n",
    "\n",
    "# flatten the image matrix into a row vector \n",
    "model.add(Flatten())\n",
    "\n",
    "# hidden layer in FCFF portion of model \n",
    "model.add(Dense(64, activation=act_func))\n",
    "\n",
    "# Output layer \n",
    "model.add(Dense(n_features, activation=\"softmax\"))\n",
    "\n",
    "model.summary()"
   ]
  },
  {
   "cell_type": "code",
   "execution_count": null,
   "metadata": {
    "colab": {},
    "colab_type": "code",
    "id": "1P_mRtoutCA9"
   },
   "outputs": [],
   "source": [
    "# Compile Model\n",
    "model.compile(optimizer='adam',\n",
    "              loss='BinaryCrossentropy',\n",
    "              metrics=['accuracy'])"
   ]
  },
  {
   "cell_type": "code",
   "execution_count": 74,
   "metadata": {
    "colab": {},
    "colab_type": "code",
    "id": "CwM4GsaetCA_",
    "scrolled": true
   },
   "outputs": [
    {
     "name": "stdout",
     "output_type": "stream",
     "text": [
      "Epoch 1/20\n",
      "32/32 [==============================] - 66s 2s/step - loss: 0.5553 - accuracy: 0.7024 - val_loss: 0.5083 - val_accuracy: 0.8068\n",
      "Epoch 2/20\n",
      "32/32 [==============================] - 71s 2s/step - loss: 0.5391 - accuracy: 0.7500 - val_loss: 0.5933 - val_accuracy: 0.7159\n",
      "Epoch 3/20\n",
      "32/32 [==============================] - 68s 2s/step - loss: 0.5382 - accuracy: 0.7401 - val_loss: 0.9435 - val_accuracy: 0.3807\n",
      "Epoch 4/20\n",
      "32/32 [==============================] - 75s 2s/step - loss: 0.5303 - accuracy: 0.7381 - val_loss: 0.6117 - val_accuracy: 0.6875\n",
      "Epoch 5/20\n",
      "32/32 [==============================] - 75s 2s/step - loss: 0.4945 - accuracy: 0.7599 - val_loss: 0.8879 - val_accuracy: 0.4034\n",
      "Epoch 6/20\n",
      "32/32 [==============================] - 76s 2s/step - loss: 0.5354 - accuracy: 0.7560 - val_loss: 0.4545 - val_accuracy: 0.7955\n",
      "Epoch 7/20\n",
      "32/32 [==============================] - 66s 2s/step - loss: 0.5237 - accuracy: 0.7242 - val_loss: 1.5787 - val_accuracy: 0.3352\n",
      "Epoch 8/20\n",
      "32/32 [==============================] - 64s 2s/step - loss: 0.5282 - accuracy: 0.7520 - val_loss: 0.4956 - val_accuracy: 0.8239\n",
      "Epoch 9/20\n",
      "32/32 [==============================] - 66s 2s/step - loss: 0.4966 - accuracy: 0.7321 - val_loss: 0.5332 - val_accuracy: 0.7784\n",
      "Epoch 10/20\n",
      "32/32 [==============================] - 65s 2s/step - loss: 0.5541 - accuracy: 0.7222 - val_loss: 0.5299 - val_accuracy: 0.7898\n",
      "Epoch 11/20\n",
      "32/32 [==============================] - 63s 2s/step - loss: 0.5556 - accuracy: 0.7024 - val_loss: 0.4484 - val_accuracy: 0.8068\n",
      "Epoch 12/20\n",
      "32/32 [==============================] - 62s 2s/step - loss: 0.5816 - accuracy: 0.6468 - val_loss: 0.4598 - val_accuracy: 0.7841\n",
      "Epoch 13/20\n",
      "32/32 [==============================] - 59s 2s/step - loss: 0.5171 - accuracy: 0.7222 - val_loss: 0.4377 - val_accuracy: 0.8182\n",
      "Epoch 14/20\n",
      "32/32 [==============================] - 62s 2s/step - loss: 0.5184 - accuracy: 0.7421 - val_loss: 0.5970 - val_accuracy: 0.6591\n",
      "Epoch 15/20\n",
      "32/32 [==============================] - 62s 2s/step - loss: 0.5292 - accuracy: 0.7123 - val_loss: 0.8308 - val_accuracy: 0.4261\n",
      "Epoch 16/20\n",
      "32/32 [==============================] - 64s 2s/step - loss: 0.5237 - accuracy: 0.7341 - val_loss: 0.4897 - val_accuracy: 0.8295\n",
      "Epoch 17/20\n",
      "32/32 [==============================] - 59s 2s/step - loss: 0.5505 - accuracy: 0.6964 - val_loss: 0.4639 - val_accuracy: 0.8239\n",
      "Epoch 18/20\n",
      "32/32 [==============================] - 61s 2s/step - loss: 0.5203 - accuracy: 0.7440 - val_loss: 0.4724 - val_accuracy: 0.7273\n",
      "Epoch 19/20\n",
      "32/32 [==============================] - 61s 2s/step - loss: 0.5060 - accuracy: 0.7540 - val_loss: 0.4331 - val_accuracy: 0.8295\n",
      "Epoch 20/20\n",
      "32/32 [==============================] - 65s 2s/step - loss: 0.5782 - accuracy: 0.7024 - val_loss: 0.4650 - val_accuracy: 0.8182\n"
     ]
    }
   ],
   "source": [
    "# Fit Model\n",
    "model1 = model.fit(\n",
    "    train_data_gen,\n",
    "    # Why?\n",
    "    steps_per_epoch=total_train // batch_size,\n",
    "    epochs=epochs,\n",
    "    validation_data=val_data_gen,\n",
    "    validation_steps=total_val // batch_size\n",
    ")"
   ]
  },
  {
   "cell_type": "code",
   "execution_count": 75,
   "metadata": {},
   "outputs": [
    {
     "name": "stdout",
     "output_type": "stream",
     "text": [
      "       loss  accuracy  val_loss  val_accuracy  epoch\n",
      "0  0.816188  0.512974  0.676661      0.653409      0\n",
      "1  0.793887  0.489022  0.955809      0.659091      1\n",
      "2  0.788049  0.510978  0.659528      0.625000      2\n",
      "3  0.696923  0.550898  0.631179      0.653409      3\n",
      "4  0.706367  0.524950  0.715286      0.426136      4\n"
     ]
    },
    {
     "data": {
      "image/png": "[encoded data removed]",
      "text/plain": [
       "<Figure size 432x288 with 1 Axes>"
      ]
     },
     "metadata": {
      "needs_background": "light"
     },
     "output_type": "display_data"
    }
   ],
   "source": [
    "import seaborn as sns\n",
    "import pandas as pd\n",
    "\n",
    "hist_df= pd.DataFrame(history.history)\n",
    "hist_df['epoch']= hist_df.index.values\n",
    "print(hist_df.head())\n",
    "\n",
    "sns.lineplot(x = 'epoch', y = 'val_accuracy' , data = hist_df);"
   ]
  },
  {
   "cell_type": "code",
   "execution_count": 77,
   "metadata": {},
   "outputs": [
    {
     "name": "stdout",
     "output_type": "stream",
     "text": [
      "12/12 - 17s - loss: 0.4638 - accuracy: 0.8242\n"
     ]
    }
   ],
   "source": [
    "test_loss, test_acc = model.evaluate(val_data_gen, verbose=2)"
   ]
  },
  {
   "cell_type": "markdown",
   "metadata": {
    "colab_type": "text",
    "id": "FNTHjUddtCBB"
   },
   "source": [
    "# Custom CNN Model with Image Manipulations\n",
    "\n",
    "To simulate an increase in a sample of image, you can apply image manipulation techniques: cropping, rotation, stretching, etc. Luckily Keras has some handy functions for us to apply these techniques to our mountain and forest example. Simply, you should be able to modify our image generator for the problem. Check out these resources to help you get started: \n",
    "\n",
    "1. [Keras `ImageGenerator` Class](https://keras.io/preprocessing/image/#imagedatagenerator-class)\n",
    "2. [Building a powerful image classifier with very little data](https://blog.keras.io/building-powerful-image-classification-models-using-very-little-data.html)\n",
    " "
   ]
  },
  {
   "cell_type": "code",
   "execution_count": 83,
   "metadata": {
    "colab": {},
    "colab_type": "code",
    "id": "XKioBv3WtCBB"
   },
   "outputs": [],
   "source": [
    "train_datagen2 = ImageDataGenerator(\n",
    "        featurewise_center=True, \n",
    "        featurewise_std_normalization=True,\n",
    "        shear_range=0.2,\n",
    "        zoom_range=0.2,\n",
    "        horizontal_flip=True)"
   ]
  },
  {
   "cell_type": "code",
   "execution_count": 84,
   "metadata": {},
   "outputs": [],
   "source": [
    "test_datagen2 = ImageDataGenerator(\n",
    "        rescale=1./255,\n",
    "        shear_range=0.2,\n",
    "        zoom_range=0.2,\n",
    "        horizontal_flip=True)"
   ]
  },
  {
   "cell_type": "code",
   "execution_count": 85,
   "metadata": {},
   "outputs": [
    {
     "name": "stdout",
     "output_type": "stream",
     "text": [
      "Found 520 images belonging to 2 classes.\n"
     ]
    }
   ],
   "source": [
    "train_data_gen2 = train_datagen2.flow_from_directory(batch_size=batch_size,\n",
    "                                                           directory=train_dir,\n",
    "                                                           shuffle=True,\n",
    "                                                           target_size=(IMG_HEIGHT, IMG_WIDTH),\n",
    "                                                           class_mode='binary')"
   ]
  },
  {
   "cell_type": "code",
   "execution_count": 86,
   "metadata": {},
   "outputs": [
    {
     "name": "stdout",
     "output_type": "stream",
     "text": [
      "Found 520 images belonging to 2 classes.\n"
     ]
    }
   ],
   "source": [
    "test_data_gen2 = test_datagen2.flow_from_directory(batch_size=batch_size,\n",
    "                                                           directory=train_dir,\n",
    "                                                           shuffle=True,\n",
    "                                                           target_size=(IMG_HEIGHT, IMG_WIDTH),\n",
    "                                                           class_mode='binary')"
   ]
  },
  {
   "cell_type": "code",
   "execution_count": 87,
   "metadata": {
    "scrolled": true
   },
   "outputs": [
    {
     "name": "stdout",
     "output_type": "stream",
     "text": [
      "Epoch 1/20\n",
      "32/32 [==============================] - 64s 2s/step - loss: 0.5229 - accuracy: 0.7183 - val_loss: 0.5477 - val_accuracy: 0.7784\n",
      "Epoch 2/20\n",
      "32/32 [==============================] - 62s 2s/step - loss: 0.5140 - accuracy: 0.7619 - val_loss: 0.4516 - val_accuracy: 0.8523\n",
      "Epoch 3/20\n",
      "32/32 [==============================] - 63s 2s/step - loss: 0.5494 - accuracy: 0.7421 - val_loss: 0.4182 - val_accuracy: 0.7955\n",
      "Epoch 4/20\n",
      "32/32 [==============================] - 64s 2s/step - loss: 0.5177 - accuracy: 0.7282 - val_loss: 0.5322 - val_accuracy: 0.6818\n",
      "Epoch 5/20\n",
      "32/32 [==============================] - 62s 2s/step - loss: 0.5590 - accuracy: 0.7222 - val_loss: 0.4287 - val_accuracy: 0.8580\n",
      "Epoch 6/20\n",
      "32/32 [==============================] - 57s 2s/step - loss: 0.5715 - accuracy: 0.6865 - val_loss: 0.4276 - val_accuracy: 0.8693\n",
      "Epoch 7/20\n",
      "32/32 [==============================] - 57s 2s/step - loss: 0.5445 - accuracy: 0.7083 - val_loss: 0.4086 - val_accuracy: 0.8523\n",
      "Epoch 8/20\n",
      "32/32 [==============================] - 57s 2s/step - loss: 0.5886 - accuracy: 0.7163 - val_loss: 0.4521 - val_accuracy: 0.7670\n",
      "Epoch 9/20\n",
      "32/32 [==============================] - 57s 2s/step - loss: 0.4968 - accuracy: 0.7738 - val_loss: 0.4624 - val_accuracy: 0.8295\n",
      "Epoch 10/20\n",
      "32/32 [==============================] - 58s 2s/step - loss: 0.5392 - accuracy: 0.7188 - val_loss: 0.4588 - val_accuracy: 0.7216\n",
      "Epoch 11/20\n",
      "32/32 [==============================] - 58s 2s/step - loss: 0.5102 - accuracy: 0.7540 - val_loss: 0.4065 - val_accuracy: 0.7614\n",
      "Epoch 12/20\n",
      "32/32 [==============================] - 57s 2s/step - loss: 0.5738 - accuracy: 0.6964 - val_loss: 0.4805 - val_accuracy: 0.7273\n",
      "Epoch 13/20\n",
      "32/32 [==============================] - 57s 2s/step - loss: 0.5307 - accuracy: 0.7361 - val_loss: 0.6581 - val_accuracy: 0.6023\n",
      "Epoch 14/20\n",
      "32/32 [==============================] - 56s 2s/step - loss: 0.5067 - accuracy: 0.7778 - val_loss: 0.4352 - val_accuracy: 0.7443\n",
      "Epoch 15/20\n",
      "32/32 [==============================] - 56s 2s/step - loss: 0.5394 - accuracy: 0.7222 - val_loss: 0.4078 - val_accuracy: 0.8466\n",
      "Epoch 16/20\n",
      "32/32 [==============================] - 56s 2s/step - loss: 0.4578 - accuracy: 0.7837 - val_loss: 0.4542 - val_accuracy: 0.8352\n",
      "Epoch 17/20\n",
      "32/32 [==============================] - 78s 2s/step - loss: 0.5761 - accuracy: 0.6766 - val_loss: 0.4085 - val_accuracy: 0.8750\n",
      "Epoch 18/20\n",
      "32/32 [==============================] - 58s 2s/step - loss: 0.4857 - accuracy: 0.7698 - val_loss: 0.4289 - val_accuracy: 0.8295\n",
      "Epoch 19/20\n",
      "32/32 [==============================] - 58s 2s/step - loss: 0.5616 - accuracy: 0.7044 - val_loss: 0.4223 - val_accuracy: 0.7500\n",
      "Epoch 20/20\n",
      "32/32 [==============================] - 57s 2s/step - loss: 0.5362 - accuracy: 0.7123 - val_loss: 0.3896 - val_accuracy: 0.8693\n"
     ]
    }
   ],
   "source": [
    "# Using same predefined model as above\n",
    "\n",
    "model2 = model.fit(\n",
    "    train_data_gen2,\n",
    "    # Why?\n",
    "    steps_per_epoch=total_train // batch_size,\n",
    "    epochs=epochs,\n",
    "    validation_data=val_data_gen,\n",
    "    validation_steps=total_val // batch_size\n",
    ")"
   ]
  },
  {
   "cell_type": "code",
   "execution_count": 89,
   "metadata": {},
   "outputs": [
    {
     "name": "stdout",
     "output_type": "stream",
     "text": [
      "12/12 - 18s - loss: 0.3880 - accuracy: 0.8681\n"
     ]
    }
   ],
   "source": [
    "test_loss, test_acc = model.evaluate(val_data_gen, verbose=2)"
   ]
  },
  {
   "cell_type": "markdown",
   "metadata": {
    "colab_type": "text",
    "id": "uT3UV3gap9H6"
   },
   "source": [
    "# Resources and Stretch Goals\n",
    "\n",
    "Stretch goals\n",
    "- Enhance your code to use classes/functions and accept terms to search and classes to look for in recognizing the downloaded images (e.g. download images of parties, recognize all that contain balloons)\n",
    "- Check out [other available pretrained networks](https://tfhub.dev), try some and compare\n",
    "- Image recognition/classification is somewhat solved, but *relationships* between entities and describing an image is not - check out some of the extended resources (e.g. [Visual Genome](https://visualgenome.org/)) on the topic\n",
    "- Transfer learning - using images you source yourself, [retrain a classifier](https://www.tensorflow.org/hub/tutorials/image_retraining) with a new category\n",
    "- (Not CNN related) Use [piexif](https://pypi.org/project/piexif/) to check out the metadata of images passed in to your system - see if they're from a national park! (Note - many images lack GPS metadata, so this won't work in most cases, but still cool)\n",
    "\n",
    "Resources\n",
    "- [Deep Residual Learning for Image Recognition](https://arxiv.org/abs/1512.03385) - influential paper (introduced ResNet)\n",
    "- [YOLO: Real-Time Object Detection](https://pjreddie.com/darknet/yolo/) - an influential convolution based object detection system, focused on inference speed (for applications to e.g. self driving vehicles)\n",
    "- [R-CNN, Fast R-CNN, Faster R-CNN, YOLO](https://towardsdatascience.com/r-cnn-fast-r-cnn-faster-r-cnn-yolo-object-detection-algorithms-36d53571365e) - comparison of object detection systems\n",
    "- [Common Objects in Context](http://cocodataset.org/) - a large-scale object detection, segmentation, and captioning dataset\n",
    "- [Visual Genome](https://visualgenome.org/) - a dataset, a knowledge base, an ongoing effort to connect structured image concepts to language"
   ]
  }
 ],
 "metadata": {
  "colab": {
   "name": "LS_DS_432_Convolution_Neural_Networks_Assignment.ipynb",
   "provenance": []
  },
  "kernelspec": {
   "display_name": "Python 3",
   "language": "python",
   "name": "python3"
  },
  "language_info": {
   "codemirror_mode": {
    "name": "ipython",
    "version": 3
   },
   "file_extension": ".py",
   "mimetype": "text/x-python",
   "name": "python",
   "nbconvert_exporter": "python",
   "pygments_lexer": "ipython3",
   "version": "3.8.7"
  },
  "nteract": {
   "version": "0.23.1"
  }
 },
 "nbformat": 4,
 "nbformat_minor": 1
}
